{
 "cells": [
  {
   "cell_type": "code",
   "execution_count": null,
   "metadata": {
    "vscode": {
     "languageId": "plaintext"
    }
   },
   "outputs": [],
   "source": [
    "import pandas as pd\n",
    "\n",
    "# Сохранить DataFrame в Parquet\n",
    "df.to_parquet(\"data.parquet\")\n",
    "\n",
    "# Прочитать обратно\n",
    "df2 = pd.read_parquet(\"data.parquet\")\n"
   ]
  }
 ],
 "metadata": {
  "language_info": {
   "name": "python"
  }
 },
 "nbformat": 4,
 "nbformat_minor": 5
}
